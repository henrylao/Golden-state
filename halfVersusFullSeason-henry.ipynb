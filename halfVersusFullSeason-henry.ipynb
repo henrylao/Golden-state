{
 "cells": [
  {
   "cell_type": "code",
   "execution_count": 2,
   "metadata": {
    "scrolled": true
   },
   "outputs": [],
   "source": [
    "import pandas as pd\n",
    "import numpy as np\n",
    "from requests_html import HTML\n",
    "UNSUPPORTED_CODECS = (\n",
    "    r\"[\\xae\\xb0\\uff0c\\u2713\\u25cf\\u2019\\u201c\\u201d\\xa0\\u2013\\xae\\u2122\\u2010\\0x9d ]\"\n",
    ")\n",
    "\n",
    "# read source code file\n",
    "with open('nba-team-values-2021-knicks-keep-top-spot-at-5-billion-warriors-bump-lakers-for-second-place', \n",
    "          encoding=\"utf-8\") as html_file:\n",
    "    source = html_file.read()\n",
    "    html = HTML(html=source)\n",
    "\n",
    "# append the top teams to list\n",
    "topTeams = []\n",
    "team = html.find('h3')\n",
    "for x in range(0, 46):\n",
    "    topTeams.append(team[x].text)\n",
    "\n",
    "# reverse the list for clarity\n",
    "topTeams.reverse()\n",
    "\n",
    "# clean up by removing empty strings\n",
    "while(\"\" in topTeams):\n",
    "    topTeams.remove(\"\")\n",
    "\n",
    "#x= np.array(topTeams)\n",
    "\n",
    "# df = pd.read_csv('warriors_hs.csv')\n",
    "# df"
   ]
  },
  {
   "cell_type": "code",
   "execution_count": 3,
   "metadata": {},
   "outputs": [],
   "source": [
    "# universal set\n",
    "teams= ['1. New York Knicks', '2. Golden State Warriors', '3. Los Angeles Lakers', \n",
    "        '4. Chicago Bulls', '5. Boston Celtics', '6. Los Angeles Clippers', \n",
    "        '7. Brooklyn Nets', '8. Houston Rockets', '9. Dallas Mavericks', \n",
    "        '10. Toronto Raptors', '11. Philadelphia 76ers', '12. Miami Heat', \n",
    "        '13. Portland Trail Blazers', '14. San Antonio Spurs', '15. Sacramento Kings',\n",
    "        '16. Washington Wizards', '17. Phoenix Suns', '18. Utah Jazz', '19. Denver Nuggets', \n",
    "        '20. Milwaukee Bucks', '21. Oklahoma City Thunder', '22. Cleveland Cavaliers',\n",
    "        '23. Indiana Pacers', '24. Atlanta Hawks', '25. Charlotte Hornets', \n",
    "        '26. Orlando Magic', '27. Detroit Pistons', '28. Minnesota Timberwolves',\n",
    "        '29. New Orleans Pelicans', '30. Memphis Grizzlies']\n"
   ]
  },
  {
   "cell_type": "code",
   "execution_count": 9,
   "metadata": {},
   "outputs": [
    {
     "data": {
      "text/plain": [
       "22"
      ]
     },
     "execution_count": 9,
     "metadata": {},
     "output_type": "execute_result"
    }
   ],
   "source": [
    "len(teams)\n",
    "# warrors vs X \n",
    "teams_against_warriors = ['Denver', 'Clippers', 'Oklahoma City', \n",
    "                  'New Orleans', 'Atlanta', 'Chicago', \n",
    "                  'Toronto', 'Philadelphia', 'San Antonio', \n",
    "                  'Portland', 'Memphis', 'Denver', 'Cleveland', \n",
    "                  'Houston', 'Dallas', 'Minnesota', 'Sacramento', \n",
    "                  'Lakers', 'Milwaukee', 'Boston', 'Phoenix', 'Utah']\n",
    "len(teams_against_warriors)\n",
    "# from collections import Counter\n",
    "# Counter(home_team_city)"
   ]
  },
  {
   "cell_type": "markdown",
   "metadata": {},
   "source": [
    "# Bruteforce Solution\n",
    "- Runtime: O(n^2)"
   ]
  },
  {
   "cell_type": "code",
   "execution_count": 5,
   "metadata": {},
   "outputs": [],
   "source": [
    "# O(n^2)\n",
    "# N\n",
    "# for t in teams:\n",
    "#     # N\n",
    "#     for w in teams_against_warriors:\n",
    "#         if w in t:\n",
    "#             print(w,t)\n",
    "#             input()\n",
    "        "
   ]
  },
  {
   "cell_type": "code",
   "execution_count": 10,
   "metadata": {},
   "outputs": [
    {
     "data": {
      "text/plain": [
       "'1. New York Knicks 2. Golden State Warriors 3. Los Angeles Lakers 4. Chicago Bulls 5. Boston Celtics'"
      ]
     },
     "execution_count": 10,
     "metadata": {},
     "output_type": "execute_result"
    }
   ],
   "source": [
    "teams_str = \" \".join(teams[:5])\n",
    "teams_str"
   ]
  },
  {
   "cell_type": "code",
   "execution_count": 11,
   "metadata": {},
   "outputs": [
    {
     "name": "stdout",
     "output_type": "stream",
     "text": [
      "Not in top 30\n",
      "Not in top 30\n",
      "Not in top 30\n",
      "Not in top 30\n",
      "Not in top 30\n",
      "Not in top 30\n",
      "Not in top 30\n",
      "Not in top 30\n",
      "Not in top 30\n",
      "Not in top 30\n",
      "Not in top 30\n",
      "Not in top 30\n",
      "Not in top 30\n",
      "Not in top 30\n",
      "Not in top 30\n",
      "Not in top 30\n",
      "Not in top 30\n",
      "Not in top 30\n",
      "Not in top 30\n"
     ]
    },
    {
     "data": {
      "text/plain": [
       "{'Chicago': 1, 'Lakers': 1, 'Boston': 1}"
      ]
     },
     "execution_count": 11,
     "metadata": {},
     "output_type": "execute_result"
    }
   ],
   "source": [
    "counter = {}\n",
    "for t in teams_against_warriors:\n",
    "    # init to 1\n",
    "    if t in teams_str and t not in counter.keys():\n",
    "        counter[t] = 1\n",
    "    # substring exists in the counter dictionary\n",
    "    elif t in teams_str:\n",
    "        counter[t] += 1\n",
    "    else:\n",
    "        print(\"Not in top 5 interests:\", t)\n",
    "    \n",
    "counter\n",
    "        \n",
    "        "
   ]
  },
  {
   "cell_type": "code",
   "execution_count": null,
   "metadata": {},
   "outputs": [],
   "source": [
    "from collections import Counter\n",
    "Counter()"
   ]
  },
  {
   "cell_type": "code",
   "execution_count": null,
   "metadata": {},
   "outputs": [],
   "source": [
    "teams_against_warriors_dict = {}\n",
    "for t in teams_against_warriors:\n",
    "#     if t not in teams_against_warriors.keys():\n",
    "#         teams_against_warriors[c] = 1\n",
    "#     else:\n",
    "#         teams_against_warriors[c] +=1\n",
    "    if t in teams_str and t not in teams_against_warriors.keys():\n",
    "        teams_against_war\n",
    "len(teams_against_warriors.keys())"
   ]
  },
  {
   "cell_type": "code",
   "execution_count": null,
   "metadata": {},
   "outputs": [],
   "source": []
  },
  {
   "cell_type": "code",
   "execution_count": null,
   "metadata": {},
   "outputs": [],
   "source": [
    "# import pandas as pd\n",
    "# import numpy as np\n",
    "# from requests_html import HTML\n",
    "\n",
    "# # read source code file\n",
    "# with open('nba-team-values-2021-knicks-keep-top-spot-at-5-billion-warriors-bump-lakers-for-second-place') as html_file:\n",
    "#     source = html_file.read()\n",
    "#     html = HTML(html=source)\n",
    "\n",
    "# # append the top teams to list\n",
    "# topTeams = []\n",
    "# team = html.find('h3')\n",
    "# for x in range(0, 46):\n",
    "#     topTeams.append(team[x].text)\n",
    "\n",
    "# # reverse the list for clarity\n",
    "# topTeams.reverse()\n",
    "\n",
    "# # clean up by removing empty strings\n",
    "# while(\"\" in topTeams):\n",
    "#     topTeams.remove(\"\")\n",
    "\n",
    "# #x= np.array(topTeams)\n",
    "\n",
    "# df = pd.read_csv('warriors_hs.csv')\n",
    "\n",
    "# ORIGINALLY WE DID NOT CLEAN THE LIST\n",
    "# clean up the dataframe\n",
    "# df = df[\"top\"].replace('', np.NaN)\n",
    "#\n",
    "# df = df[\"top\"].dropna(axis=0)\n",
    "# df = df[\"top\"].reset_index(drop=True)\n",
    "\n",
    "# # turn opponents and top teams into lists\n",
    "list_opp = df['Opponent'].tolist()\n",
    "\n",
    "# list_top = df[\"Team Name\"].tolist()\n",
    "\n",
    "# create a list to spilt the strings\n",
    "# hs_opp = []\n",
    "# for i in list_opp:\n",
    "#     str_list = i.split()\n",
    "#     hs_opp.append(str_list)\n",
    "\n",
    "# top_list = []\n",
    "# for i in topTeams:\n",
    "#     str_list = i.split()\n",
    "#     top_list.append(str_list)\n",
    "\n",
    "print(topTeams,list_opp)\n",
    "\n",
    "print(list_opp[0] in topTeams[18])\n"
   ]
  }
 ],
 "metadata": {
  "kernelspec": {
   "display_name": "Python 3",
   "language": "python",
   "name": "python3"
  },
  "language_info": {
   "codemirror_mode": {
    "name": "ipython",
    "version": 3
   },
   "file_extension": ".py",
   "mimetype": "text/x-python",
   "name": "python",
   "nbconvert_exporter": "python",
   "pygments_lexer": "ipython3",
   "version": "3.8.5"
  }
 },
 "nbformat": 4,
 "nbformat_minor": 4
}
